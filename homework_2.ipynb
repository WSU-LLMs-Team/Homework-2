{
 "cells": [
  {
   "cell_type": "code",
   "execution_count": 1,
   "id": "396048ed-28d2-4de8-9908-ebc7d81e9b7e",
   "metadata": {},
   "outputs": [],
   "source": [
    "import numpy as np"
   ]
  },
  {
   "cell_type": "code",
   "execution_count": 12,
   "id": "116ad4ba-a7be-4f31-80c6-43dd49732a7a",
   "metadata": {},
   "outputs": [],
   "source": [
    "import ollama\n",
    "import pandas as pd\n",
    "import numpy as np\n",
    "from datasets import load_dataset\n",
    "from sklearn.metrics import accuracy_score\n",
    "from tqdm import tqdm\n",
    "import os\n"
   ]
  },
  {
   "cell_type": "code",
   "execution_count": 13,
   "id": "4722fab5-b77c-4861-b5ed-a368770cdbc9",
   "metadata": {},
   "outputs": [],
   "source": [
    "os.environ[\"HF_HUB_DISABLE_SYMLINKS_WARNING\"] = \"1\""
   ]
  },
  {
   "cell_type": "code",
   "execution_count": 14,
   "id": "5e340d85-c759-483c-bbe9-94e9287cc6dd",
   "metadata": {},
   "outputs": [],
   "source": [
    "\n",
    "dataset = load_dataset(\"ag_news\")\n",
    "\n",
    "test_texts = dataset[\"test\"][\"text\"]\n",
    "test_labels = dataset[\"test\"][\"label\"]  \n",
    "\n",
    "# label mapping \n",
    "label_mapping = {\n",
    "    0: \"World\",\n",
    "    1: \"Sports\",\n",
    "    2: \"Business\",\n",
    "    3: \"Science/Technology\"\n",
    "}"
   ]
  },
  {
   "cell_type": "code",
   "execution_count": 34,
   "id": "106eac52-4016-4216-bc7f-bde69c344c02",
   "metadata": {},
   "outputs": [
    {
     "data": {
      "text/plain": [
       "(\"Tougher rules won't soften Law's game FOXBOROUGH -- Looking at his ridiculously developed upper body, with huge biceps and hardly an ounce of fat, it's easy to see why Ty Law, arguably the best cornerback in football, chooses physical play over finesse. That's not to imply that he's lacking a finesse component, because he can shut down his side of the field much as Deion Sanders ...\",\n",
       " 1)"
      ]
     },
     "execution_count": 34,
     "metadata": {},
     "output_type": "execute_result"
    }
   ],
   "source": [
    "test_texts[27], test_labels[27]"
   ]
  },
  {
   "cell_type": "code",
   "execution_count": 50,
   "id": "3b14ca54-668d-47ad-807e-a12348ba77ff",
   "metadata": {},
   "outputs": [],
   "source": [
    "\n",
    "def classify_text_ollama(text):\n",
    "    prompt = f\"Answer with one word. Classify the following news article into one of these categories which fits best: World, Sports, Business, or Science/Technology.\\n\\nArticle: {text}\\n\\nCategory:\"\n",
    "\n",
    "    output = ollama.chat(model=\"llama3.2\", messages=[{\"role\": \"user\", \"content\": prompt}])\n",
    "\n",
    "    response = output[\"message\"][\"content\"].strip()    \n",
    "    #print(f\"response: {response}\")   \n",
    "    \n",
    "    for idx, category in label_mapping.items():\n",
    "        if category.lower() in response.lower():\n",
    "            return idx  \n",
    "\n",
    "    print(\"no match found\")\n",
    "    return -1  "
   ]
  },
  {
   "cell_type": "code",
   "execution_count": 51,
   "id": "205cc0d2-45a7-4509-a8de-ccd34a333b94",
   "metadata": {},
   "outputs": [
    {
     "name": "stderr",
     "output_type": "stream",
     "text": [
      " 27%|██▋       | 2087/7600 [01:29<03:40, 24.98it/s]"
     ]
    },
    {
     "name": "stdout",
     "output_type": "stream",
     "text": [
      "no match found\n"
     ]
    },
    {
     "name": "stderr",
     "output_type": "stream",
     "text": [
      " 28%|██▊       | 2105/7600 [01:29<03:52, 23.68it/s]"
     ]
    },
    {
     "name": "stdout",
     "output_type": "stream",
     "text": [
      "no match found\n"
     ]
    },
    {
     "name": "stderr",
     "output_type": "stream",
     "text": [
      " 32%|███▏      | 2435/7600 [01:43<03:46, 22.83it/s]"
     ]
    },
    {
     "name": "stdout",
     "output_type": "stream",
     "text": [
      "no match found\n"
     ]
    },
    {
     "name": "stderr",
     "output_type": "stream",
     "text": [
      " 39%|███▊      | 2933/7600 [02:04<03:20, 23.29it/s]"
     ]
    },
    {
     "name": "stdout",
     "output_type": "stream",
     "text": [
      "no match found\n"
     ]
    },
    {
     "name": "stderr",
     "output_type": "stream",
     "text": [
      " 41%|████      | 3113/7600 [02:11<03:21, 22.30it/s]"
     ]
    },
    {
     "name": "stdout",
     "output_type": "stream",
     "text": [
      "no match found\n"
     ]
    },
    {
     "name": "stderr",
     "output_type": "stream",
     "text": [
      " 53%|█████▎    | 4037/7600 [02:50<02:22, 24.98it/s]"
     ]
    },
    {
     "name": "stdout",
     "output_type": "stream",
     "text": [
      "no match found\n"
     ]
    },
    {
     "name": "stderr",
     "output_type": "stream",
     "text": [
      " 71%|███████▏  | 5417/7600 [03:47<01:34, 23.14it/s]"
     ]
    },
    {
     "name": "stdout",
     "output_type": "stream",
     "text": [
      "no match found\n"
     ]
    },
    {
     "name": "stderr",
     "output_type": "stream",
     "text": [
      " 72%|███████▏  | 5495/7600 [03:51<01:34, 22.31it/s]"
     ]
    },
    {
     "name": "stdout",
     "output_type": "stream",
     "text": [
      "no match found\n"
     ]
    },
    {
     "name": "stderr",
     "output_type": "stream",
     "text": [
      " 92%|█████████▏| 7002/7600 [04:54<00:26, 22.86it/s]"
     ]
    },
    {
     "name": "stdout",
     "output_type": "stream",
     "text": [
      "no match found\n"
     ]
    },
    {
     "name": "stderr",
     "output_type": "stream",
     "text": [
      "100%|██████████| 7600/7600 [05:19<00:00, 23.80it/s]\n"
     ]
    }
   ],
   "source": [
    "\n",
    "predicted_labels = []\n",
    "for text in tqdm(test_texts):  \n",
    "    predicted_labels.append(classify_text_ollama(text))"
   ]
  },
  {
   "cell_type": "code",
   "execution_count": 55,
   "id": "ab65ba8e-e89d-48c1-a9f9-fa386490b8e7",
   "metadata": {},
   "outputs": [],
   "source": [
    "predicted_labels = np.array(predicted_labels)\n",
    "true_labels = np.array(test_labels[:])  "
   ]
  },
  {
   "cell_type": "markdown",
   "id": "da3416b2-4185-4e43-b3a5-ce6c6cf4fb06",
   "metadata": {},
   "source": [
    "## Compute Accuracy"
   ]
  },
  {
   "cell_type": "code",
   "execution_count": 56,
   "id": "b83766e4-9bfc-432e-8dc4-138835ae5653",
   "metadata": {},
   "outputs": [
    {
     "name": "stdout",
     "output_type": "stream",
     "text": [
      "\n",
      "Classification Accuracy: 58.87% on 7600 samples\n"
     ]
    }
   ],
   "source": [
    "\n",
    "valid_indices = predicted_labels != -1  \n",
    "accuracy = accuracy_score(true_labels[valid_indices], predicted_labels[valid_indices])\n",
    "\n",
    "print(f\"\\nClassification Accuracy: {accuracy:.2%} on {len(valid_indices)} samples\")"
   ]
  },
  {
   "cell_type": "code",
   "execution_count": 57,
   "id": "dd878ca7-5059-403a-86ec-2d46d726013e",
   "metadata": {},
   "outputs": [
    {
     "name": "stdout",
     "output_type": "stream",
     "text": [
      "\n",
      "News: Fears for T N pension after talks Unions representing workers at Turner   Newall say they are 'disappointed' after talks with stricken parent firm Federal Mogul.\n",
      "True Label: Business\n",
      "Predicted Label: Business\n",
      "\n",
      "News: The Race is On: Second Private Team Sets Launch Date for Human Spaceflight (SPACE.com) SPACE.com - TORONTO, Canada -- A second\\team of rocketeers competing for the  #36;10 million Ansari X Prize, a contest for\\privately funded suborbital space flight, has officially announced the first\\launch date for its manned rocket.\n",
      "True Label: Science/Technology\n",
      "Predicted Label: Science/Technology\n",
      "\n",
      "News: Ky. Company Wins Grant to Study Peptides (AP) AP - A company founded by a chemistry researcher at the University of Louisville won a grant to develop a method of producing better peptides, which are short chains of amino acids, the building blocks of proteins.\n",
      "True Label: Science/Technology\n",
      "Predicted Label: Science/Technology\n",
      "\n",
      "News: Prediction Unit Helps Forecast Wildfires (AP) AP - It's barely dawn when Mike Fitzpatrick starts his shift with a blur of colorful maps, figures and endless charts, but already he knows what the day will bring. Lightning will strike in places he expects. Winds will pick up, moist places will dry and flames will roar.\n",
      "True Label: Science/Technology\n",
      "Predicted Label: Business\n",
      "\n",
      "News: Calif. Aims to Limit Farm-Related Smog (AP) AP - Southern California's smog-fighting agency went after emissions of the bovine variety Friday, adopting the nation's first rules to reduce air pollution from dairy cow manure.\n",
      "True Label: Science/Technology\n",
      "Predicted Label: Science/Technology\n"
     ]
    }
   ],
   "source": [
    "\n",
    "# sample classifications\n",
    "for i in range(5):\n",
    "    print(f\"\\nNews: {test_texts[i]}\")\n",
    "    print(f\"True Label: {label_mapping[test_labels[i]]}\")\n",
    "    print(f\"Predicted Label: {label_mapping.get(predicted_labels[i], 'Unknown')}\")"
   ]
  },
  {
   "cell_type": "code",
   "execution_count": null,
   "id": "ead5abac-5f79-44fe-9ada-cf9670e87d98",
   "metadata": {},
   "outputs": [],
   "source": []
  },
  {
   "cell_type": "code",
   "execution_count": null,
   "id": "26a4985b-cd3f-4a78-ad68-c253cce3ed5e",
   "metadata": {},
   "outputs": [],
   "source": []
  }
 ],
 "metadata": {
  "kernelspec": {
   "display_name": "Python 3 (ipykernel)",
   "language": "python",
   "name": "python3"
  },
  "language_info": {
   "codemirror_mode": {
    "name": "ipython",
    "version": 3
   },
   "file_extension": ".py",
   "mimetype": "text/x-python",
   "name": "python",
   "nbconvert_exporter": "python",
   "pygments_lexer": "ipython3",
   "version": "3.12.9"
  }
 },
 "nbformat": 4,
 "nbformat_minor": 5
}
